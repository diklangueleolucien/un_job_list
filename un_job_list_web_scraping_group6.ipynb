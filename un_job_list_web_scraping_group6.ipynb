{
 "cells": [
  {
   "cell_type": "markdown",
   "metadata": {},
   "source": [
    "## AIMS-CAMERO0N 2022 - 2023\n",
    "\n",
    "## BIG DATA\n",
    "\n",
    "## TOPIC : Data Gathering UN-job-list\n",
    "\n",
    "## GROUP 6 \n",
    "### LECTURER : DUNSTAN MATEKENYA\n",
    "\n",
    "\n",
    "### Presented by : \n",
    "<ol>\n",
    "  <li>Ben</li>\n",
    "    <li>Gabelle</li>\n",
    "    <li>Jane</li>\n",
    "    <li>Leonard</li>\n",
    "    <li>Lucien</li>\n",
    "    <li>Mustapha</li>\n",
    "  <li>Ahmed</li>\n",
    "</ol>"
   ]
  },
  {
   "cell_type": "markdown",
   "metadata": {},
   "source": [
    "# IMPORTATION\n",
    "we import necessary packages/libraries."
   ]
  },
  {
   "cell_type": "code",
   "execution_count": 1,
   "metadata": {},
   "outputs": [],
   "source": [
    "\n",
    "import pandas as pd                 #for dataframe\n",
    "import re                           #for string manipulation\n",
    "from bs4 import BeautifulSoup       #for string scraping\n",
    "from urllib.request import urlopen  #for string url\n",
    "\n",
    "\n",
    "import email, smtplib, ssl          #for sending email\n",
    "from email import encoders\n",
    "from email.mime.base import MIMEBase\n",
    "from email.mime.multipart import MIMEMultipart\n",
    "from email.mime.text import MIMEText\n",
    "\n",
    "import time                           #for date\n",
    "from datetime import datetime, timedelta\n",
    "\n",
    "import seaborn as sn                  #for plot\n",
    "import matplotlib as plt"
   ]
  },
  {
   "cell_type": "markdown",
   "metadata": {},
   "source": [
    "# Soup Objects creation\n"
   ]
  },
  {
   "cell_type": "code",
   "execution_count": 2,
   "metadata": {},
   "outputs": [],
   "source": [
    "def Soup_function(url_main,list_job):\n",
    "    ''' take  the main url and a list of job list_job like a parameters\n",
    "         and return the liste of BeautifulSoup object\n",
    "    '''\n",
    "    #list of responce object\n",
    "    responses = []\n",
    "    \n",
    "    #loop to created list object  responses\n",
    "    for i in list_job:\n",
    "        responses.append(urlopen(url_main+''+i))\n",
    "    Soup_list = []\n",
    "    #loop to created list object BeautifulSoup \n",
    "    for i in range(len(responses)):\n",
    "        Soup_list.append(BeautifulSoup(responses[i], 'lxml'))\n",
    "    return Soup_list"
   ]
  },
  {
   "cell_type": "markdown",
   "metadata": {},
   "source": [
    "## Extracting Information Using the Soup Objects\n"
   ]
  },
  {
   "cell_type": "code",
   "execution_count": 3,
   "metadata": {},
   "outputs": [],
   "source": [
    "def headers(soup=None):\n",
    "    ''' take a  soup object in parameter and return\n",
    "    the header of the table'''\n",
    "    # Get Table headers using 'th' HTML tag\n",
    "    headers_with_tags = soup.find_all('th')\n",
    "\n",
    "    # Convert to string\n",
    "    headers_str = str(headers_with_tags)\n",
    "\n",
    "    # Extract text only and leave out HTML tags\n",
    "    headers_without_tags = BeautifulSoup(headers_str, \"lxml\").get_text()\n",
    "    headers_without_tags2 = headers_without_tags[1:-1]\n",
    "\n",
    "    # Split using comma delimeter and remove any trailing spaces\n",
    "    split_header = headers_without_tags2.split(',')\n",
    "    split_header2 = [i.strip() for i in split_header] \n",
    "    return split_header2"
   ]
  },
  {
   "cell_type": "code",
   "execution_count": 4,
   "metadata": {},
   "outputs": [],
   "source": [
    "def links(soup=None):\n",
    "    ''' take a  soup object in parameter and return\n",
    "    the link in the table of the table'''\n",
    "    # Extract all hyperlinks\n",
    "    soup.find_all('a')\n",
    "\n",
    "    # the find all method returns a list\n",
    "    all_links = soup.find_all(\"href\")\n",
    "\n",
    "    #list link\n",
    "    all_list =[]\n",
    "    # Loop through the list to retrieve required attributes from the hyperlinks\n",
    "    for link in soup.find_all('a'):\n",
    "        all_list.append(link.get(\"href\"))\n",
    "   \n",
    "    #list link of description jobs\n",
    "    all_list_descriptions = []\n",
    "    \n",
    "    # Loop through the list to retrieve required attributes from the hyperlinks of description\n",
    "    for elt in all_list:\n",
    "        if str(elt).find('https://unjoblist.org/r/?') == 0:\n",
    "            all_list_descriptions.append(elt)\n",
    "        \n",
    "    return all_list_descriptions"
   ]
  },
  {
   "cell_type": "code",
   "execution_count": 5,
   "metadata": {},
   "outputs": [],
   "source": [
    "def genered_body(soup=None):\n",
    "    ''' take a  soup object in parameter and return\n",
    "    the link in the table of the table'''\n",
    "    rows = soup.find_all('td')  # A list of table rows\n",
    "    j = 0\n",
    "    list_tr = []          # A list of table tr\n",
    "    list_td =[]           # A list of table td\n",
    "\n",
    "    #loop to get the rows and clean the html \n",
    "    for i in range(len(rows)):\n",
    "        #we move all the <> elt\n",
    "        text = re.sub(re.compile('<.*?>'), '',str(rows[j]))\n",
    "        list_td.append(text.strip())\n",
    "        j = j + 1\n",
    "        if j%6== 0 :\n",
    "            list_tr.append(list_td)\n",
    "            list_td =[] \n",
    "    return list_tr"
   ]
  },
  {
   "cell_type": "code",
   "execution_count": 6,
   "metadata": {},
   "outputs": [],
   "source": [
    "def gemered_dataframe(soup=None):\n",
    "    ''' take a  soup object in parameter and return\n",
    "    dataframe'''\n",
    "    df = pd.DataFrame(genered_body(soup))\n",
    "    df.columns= headers(soup)\n",
    "    df['Descriptions'] = links(soup)\n",
    "    return df"
   ]
  },
  {
   "cell_type": "markdown",
   "metadata": {},
   "source": [
    "### EVERY THINGS  TOGETHER\n"
   ]
  },
  {
   "cell_type": "code",
   "execution_count": 8,
   "metadata": {},
   "outputs": [],
   "source": [
    "#list of jobs\n",
    "jobs = ['statistician','data','research+officer']\n",
    "\n",
    "#reacher link of job\n",
    "url = 'https://unjoblist.org/results.php?kw='\n",
    "\n",
    "## Save AS CSV into data folder\n",
    "out_file = 'un_job_list_output.csv'\n",
    "\n",
    "#job object list\n",
    "soups = Soup_function(url,jobs)\n",
    "\n",
    "#genered the dataset\n",
    "df_final = pd.concat([gemered_dataframe(soups[0]),gemered_dataframe(soups[1]),gemered_dataframe(soups[2])])\n",
    "\n",
    "# The index = False option ensures we dont save the default index\n",
    "df_final.to_csv(out_file, index=False)"
   ]
  },
  {
   "cell_type": "code",
   "execution_count": 9,
   "metadata": {
    "scrolled": true
   },
   "outputs": [
    {
     "data": {
      "text/html": [
       "<div>\n",
       "<style scoped>\n",
       "    .dataframe tbody tr th:only-of-type {\n",
       "        vertical-align: middle;\n",
       "    }\n",
       "\n",
       "    .dataframe tbody tr th {\n",
       "        vertical-align: top;\n",
       "    }\n",
       "\n",
       "    .dataframe thead th {\n",
       "        text-align: right;\n",
       "    }\n",
       "</style>\n",
       "<table border=\"1\" class=\"dataframe\">\n",
       "  <thead>\n",
       "    <tr style=\"text-align: right;\">\n",
       "      <th></th>\n",
       "      <th>Organisation</th>\n",
       "      <th>Duty Station</th>\n",
       "      <th>Level</th>\n",
       "      <th>Post Title</th>\n",
       "      <th>Closing Date</th>\n",
       "      <th>Posting Retrieved</th>\n",
       "      <th>Descriptions</th>\n",
       "    </tr>\n",
       "  </thead>\n",
       "  <tbody>\n",
       "    <tr>\n",
       "      <th>0</th>\n",
       "      <td>UN ESCWA</td>\n",
       "      <td>BEIRUT</td>\n",
       "      <td>P-3</td>\n",
       "      <td>Statistician  - Economic, Social and Developme...</td>\n",
       "      <td>2023-02-18</td>\n",
       "      <td>2023-01-21</td>\n",
       "      <td>https://unjoblist.org/r/?450604</td>\n",
       "    </tr>\n",
       "    <tr>\n",
       "      <th>1</th>\n",
       "      <td>UNCTAD</td>\n",
       "      <td>GENEVA</td>\n",
       "      <td>P-2</td>\n",
       "      <td>ASSOCIATE STATISTICIAN (Temporary Job Opening)...</td>\n",
       "      <td>2023-02-22</td>\n",
       "      <td>2023-02-16</td>\n",
       "      <td>https://unjoblist.org/r/?451985</td>\n",
       "    </tr>\n",
       "    <tr>\n",
       "      <th>2</th>\n",
       "      <td>UN DESA</td>\n",
       "      <td>NEW YORK</td>\n",
       "      <td>P-3</td>\n",
       "      <td>Statistician  [Temporary] - Economic, Social a...</td>\n",
       "      <td>2023-02-23</td>\n",
       "      <td>2023-02-12</td>\n",
       "      <td>https://unjoblist.org/r/?451753</td>\n",
       "    </tr>\n",
       "    <tr>\n",
       "      <th>3</th>\n",
       "      <td>UNECA</td>\n",
       "      <td>ADDIS ABABA</td>\n",
       "      <td>P-3</td>\n",
       "      <td>Statistician (2 positions)  - Economic, Social...</td>\n",
       "      <td>2023-03-16</td>\n",
       "      <td>2023-02-01</td>\n",
       "      <td>https://unjoblist.org/r/?451178</td>\n",
       "    </tr>\n",
       "    <tr>\n",
       "      <th>0</th>\n",
       "      <td>WHO</td>\n",
       "      <td>South Sudan-Juba</td>\n",
       "      <td></td>\n",
       "      <td>Health Service Functionality project Data Liai...</td>\n",
       "      <td>2023-01-25</td>\n",
       "      <td>2023-01-18</td>\n",
       "      <td>https://unjoblist.org/r/?450407</td>\n",
       "    </tr>\n",
       "  </tbody>\n",
       "</table>\n",
       "</div>"
      ],
      "text/plain": [
       "  Organisation      Duty Station Level  \\\n",
       "0     UN ESCWA            BEIRUT   P-3   \n",
       "1       UNCTAD            GENEVA   P-2   \n",
       "2      UN DESA          NEW YORK   P-3   \n",
       "3        UNECA       ADDIS ABABA   P-3   \n",
       "0          WHO  South Sudan-Juba         \n",
       "\n",
       "                                          Post Title Closing Date  \\\n",
       "0  Statistician  - Economic, Social and Developme...   2023-02-18   \n",
       "1  ASSOCIATE STATISTICIAN (Temporary Job Opening)...   2023-02-22   \n",
       "2  Statistician  [Temporary] - Economic, Social a...   2023-02-23   \n",
       "3  Statistician (2 positions)  - Economic, Social...   2023-03-16   \n",
       "0  Health Service Functionality project Data Liai...   2023-01-25   \n",
       "\n",
       "  Posting Retrieved                     Descriptions  \n",
       "0        2023-01-21  https://unjoblist.org/r/?450604  \n",
       "1        2023-02-16  https://unjoblist.org/r/?451985  \n",
       "2        2023-02-12  https://unjoblist.org/r/?451753  \n",
       "3        2023-02-01  https://unjoblist.org/r/?451178  \n",
       "0        2023-01-18  https://unjoblist.org/r/?450407  "
      ]
     },
     "execution_count": 9,
     "metadata": {},
     "output_type": "execute_result"
    }
   ],
   "source": [
    "df_final.head()"
   ]
  },
  {
   "cell_type": "markdown",
   "metadata": {},
   "source": [
    "### SEND THE EMAIL"
   ]
  },
  {
   "cell_type": "code",
   "execution_count": 10,
   "metadata": {},
   "outputs": [],
   "source": [
    "subject = \"An email with attachment from Python\"\n",
    "body = \"This is an email with attachment sent from Python\"\n",
    "sender_email = \"sanyaleonard07@gmail.com\"\n",
    "#receiver_email = \"leonard.sanya@aims-cameroon.org\"\n",
    "def send_mail(n):\n",
    "    try:\n",
    "    # Create a multipart message and set headers\n",
    "        message = MIMEMultipart()\n",
    "        message[\"From\"] = sender_email\n",
    "        message[\"To\"] = receiver_email\n",
    "        message[\"Subject\"] = subject\n",
    "        # Add body to email\n",
    "        message.attach(MIMEText(body, \"plain\"))\n",
    "        filename = \"output.csv\"  # In same directory as script\n",
    "        # Open PDF file in binary mode\n",
    "        with open(filename, \"rb\") as attachment:\n",
    "            # Add file as application/octet-stream\n",
    "            # Email client can usually download this automatically as attachment\n",
    "            part = MIMEBase(\"application\", \"octet-stream\")\n",
    "            part.set_payload(attachment.read())\n",
    "\n",
    "        # Encode file in ASCII characters to send by email    \n",
    "        encoders.encode_base64(part)\n",
    "\n",
    "        # Add header as key/value pair to attachment part\n",
    "        part.add_header(\n",
    "            \"Content-Disposition\",\n",
    "            f\"attachment; filename= {filename}\",\n",
    "        )\n",
    "        # Add attachment to message and convert message to string\n",
    "        message.attach(part)\n",
    "        text = message.as_string()\n",
    "\n",
    "        # Log in to server using secure context and send email\n",
    "        context = ssl.create_default_context()\n",
    "        with smtplib.SMTP_SSL(\"smtp.gmail.com\", 465, context=context) as server:\n",
    "            server.login(sender_email, password)\n",
    "            server.sendmail(sender_email, receiver_email, text)\n",
    "    except:\n",
    "        return(\"Mail not sent\")"
   ]
  },
  {
   "cell_type": "code",
   "execution_count": 11,
   "metadata": {},
   "outputs": [
    {
     "name": "stdout",
     "output_type": "stream",
     "text": [
      "Type your password and press enter: this ngggugouzqrumqswngggugouzqrumqsw\n"
     ]
    }
   ],
   "source": [
    "lists=['leonard.sanya@aims-cameroon.org','gabelle.dallous@aims-cameroon.org',\n",
    "      'ulrich.djifuck@aims-cameroon.org','ben.gourion@aims-cameroon.org',\n",
    "       \"jane.wanjohi@aims-cameroon.org\"]\n",
    "password = input(\"Type your password and press enter: this ngggugouzqrumqsw\")\n",
    "for i in lists:\n",
    "    receiver_email= i\n",
    "    send_mail(receiver_email)"
   ]
  },
  {
   "cell_type": "markdown",
   "metadata": {},
   "source": [
    "### BREF ANALYSE OF THE DATAFRAME "
   ]
  },
  {
   "cell_type": "code",
   "execution_count": 12,
   "metadata": {},
   "outputs": [
    {
     "data": {
      "text/plain": [
       "(175, 7)"
      ]
     },
     "execution_count": 12,
     "metadata": {},
     "output_type": "execute_result"
    }
   ],
   "source": [
    "df_final.shape"
   ]
  },
  {
   "cell_type": "markdown",
   "metadata": {},
   "source": [
    "##### CONVERT THE CLOSING AND POSTING DATE INTO DATE SHAPE"
   ]
  },
  {
   "cell_type": "code",
   "execution_count": 13,
   "metadata": {},
   "outputs": [],
   "source": [
    "df_final[\"Closing Date\"]=pd.to_datetime(df_final[\"Closing Date\"])\n",
    "df_final[\"Posting Retrieved\"]=pd.to_datetime(df_final[\"Posting Retrieved\"]) "
   ]
  },
  {
   "cell_type": "markdown",
   "metadata": {},
   "source": [
    "#### CREATE A NEW VARIABLE TO CALCULATE THE OPENING TIME FOR EACH JOB (per days)"
   ]
  },
  {
   "cell_type": "code",
   "execution_count": 14,
   "metadata": {},
   "outputs": [
    {
     "data": {
      "text/html": [
       "<div>\n",
       "<style scoped>\n",
       "    .dataframe tbody tr th:only-of-type {\n",
       "        vertical-align: middle;\n",
       "    }\n",
       "\n",
       "    .dataframe tbody tr th {\n",
       "        vertical-align: top;\n",
       "    }\n",
       "\n",
       "    .dataframe thead th {\n",
       "        text-align: right;\n",
       "    }\n",
       "</style>\n",
       "<table border=\"1\" class=\"dataframe\">\n",
       "  <thead>\n",
       "    <tr style=\"text-align: right;\">\n",
       "      <th></th>\n",
       "      <th>Organisation</th>\n",
       "      <th>Duty Station</th>\n",
       "      <th>Level</th>\n",
       "      <th>Post Title</th>\n",
       "      <th>Closing Date</th>\n",
       "      <th>Posting Retrieved</th>\n",
       "      <th>Descriptions</th>\n",
       "      <th>diff_days</th>\n",
       "    </tr>\n",
       "  </thead>\n",
       "  <tbody>\n",
       "    <tr>\n",
       "      <th>0</th>\n",
       "      <td>UN ESCWA</td>\n",
       "      <td>BEIRUT</td>\n",
       "      <td>P-3</td>\n",
       "      <td>Statistician  - Economic, Social and Developme...</td>\n",
       "      <td>2023-02-18</td>\n",
       "      <td>2023-01-21</td>\n",
       "      <td>https://unjoblist.org/r/?450604</td>\n",
       "      <td>28</td>\n",
       "    </tr>\n",
       "    <tr>\n",
       "      <th>1</th>\n",
       "      <td>UNCTAD</td>\n",
       "      <td>GENEVA</td>\n",
       "      <td>P-2</td>\n",
       "      <td>ASSOCIATE STATISTICIAN (Temporary Job Opening)...</td>\n",
       "      <td>2023-02-22</td>\n",
       "      <td>2023-02-16</td>\n",
       "      <td>https://unjoblist.org/r/?451985</td>\n",
       "      <td>6</td>\n",
       "    </tr>\n",
       "    <tr>\n",
       "      <th>2</th>\n",
       "      <td>UN DESA</td>\n",
       "      <td>NEW YORK</td>\n",
       "      <td>P-3</td>\n",
       "      <td>Statistician  [Temporary] - Economic, Social a...</td>\n",
       "      <td>2023-02-23</td>\n",
       "      <td>2023-02-12</td>\n",
       "      <td>https://unjoblist.org/r/?451753</td>\n",
       "      <td>11</td>\n",
       "    </tr>\n",
       "    <tr>\n",
       "      <th>3</th>\n",
       "      <td>UNECA</td>\n",
       "      <td>ADDIS ABABA</td>\n",
       "      <td>P-3</td>\n",
       "      <td>Statistician (2 positions)  - Economic, Social...</td>\n",
       "      <td>2023-03-16</td>\n",
       "      <td>2023-02-01</td>\n",
       "      <td>https://unjoblist.org/r/?451178</td>\n",
       "      <td>43</td>\n",
       "    </tr>\n",
       "    <tr>\n",
       "      <th>0</th>\n",
       "      <td>WHO</td>\n",
       "      <td>South Sudan-Juba</td>\n",
       "      <td></td>\n",
       "      <td>Health Service Functionality project Data Liai...</td>\n",
       "      <td>2023-01-25</td>\n",
       "      <td>2023-01-18</td>\n",
       "      <td>https://unjoblist.org/r/?450407</td>\n",
       "      <td>7</td>\n",
       "    </tr>\n",
       "  </tbody>\n",
       "</table>\n",
       "</div>"
      ],
      "text/plain": [
       "  Organisation      Duty Station Level  \\\n",
       "0     UN ESCWA            BEIRUT   P-3   \n",
       "1       UNCTAD            GENEVA   P-2   \n",
       "2      UN DESA          NEW YORK   P-3   \n",
       "3        UNECA       ADDIS ABABA   P-3   \n",
       "0          WHO  South Sudan-Juba         \n",
       "\n",
       "                                          Post Title Closing Date  \\\n",
       "0  Statistician  - Economic, Social and Developme...   2023-02-18   \n",
       "1  ASSOCIATE STATISTICIAN (Temporary Job Opening)...   2023-02-22   \n",
       "2  Statistician  [Temporary] - Economic, Social a...   2023-02-23   \n",
       "3  Statistician (2 positions)  - Economic, Social...   2023-03-16   \n",
       "0  Health Service Functionality project Data Liai...   2023-01-25   \n",
       "\n",
       "  Posting Retrieved                     Descriptions  diff_days  \n",
       "0        2023-01-21  https://unjoblist.org/r/?450604         28  \n",
       "1        2023-02-16  https://unjoblist.org/r/?451985          6  \n",
       "2        2023-02-12  https://unjoblist.org/r/?451753         11  \n",
       "3        2023-02-01  https://unjoblist.org/r/?451178         43  \n",
       "0        2023-01-18  https://unjoblist.org/r/?450407          7  "
      ]
     },
     "execution_count": 14,
     "metadata": {},
     "output_type": "execute_result"
    }
   ],
   "source": [
    "df_final['diff_days'] = (df_final['Closing Date'] - df_final['Posting Retrieved']).dt.days \n",
    "df_final.head()"
   ]
  },
  {
   "cell_type": "code",
   "execution_count": 15,
   "metadata": {},
   "outputs": [],
   "source": [
    "#We can claculate how many jobs a certain orgnizaton has posted which related to datascience"
   ]
  },
  {
   "cell_type": "code",
   "execution_count": 16,
   "metadata": {},
   "outputs": [
    {
     "data": {
      "text/plain": [
       "(5, 8)"
      ]
     },
     "execution_count": 16,
     "metadata": {},
     "output_type": "execute_result"
    }
   ],
   "source": [
    "df_final[df_final['Organisation']=='UNCTAD'].shape #orgnization with name UNCTAD"
   ]
  },
  {
   "cell_type": "code",
   "execution_count": 17,
   "metadata": {},
   "outputs": [
    {
     "data": {
      "text/plain": [
       "(40, 8)"
      ]
     },
     "execution_count": 17,
     "metadata": {},
     "output_type": "execute_result"
    }
   ],
   "source": [
    "df_final[df_final[\"Level\"]==\"P-3\"].shape # for level of jobs, the jobs required 6 years and above are 40"
   ]
  },
  {
   "cell_type": "code",
   "execution_count": 18,
   "metadata": {},
   "outputs": [
    {
     "data": {
      "text/plain": [
       "(18, 8)"
      ]
     },
     "execution_count": 18,
     "metadata": {},
     "output_type": "execute_result"
    }
   ],
   "source": [
    "df_final[df_final[\"Duty Station\"]==\"NEW YORK\"].shape #how many jobs thet available in new york"
   ]
  },
  {
   "cell_type": "code",
   "execution_count": 19,
   "metadata": {},
   "outputs": [
    {
     "data": {
      "text/plain": [
       "18.76"
      ]
     },
     "execution_count": 19,
     "metadata": {},
     "output_type": "execute_result"
    }
   ],
   "source": [
    "df_final['diff_days'].mean() # the average time available for each jobs in days"
   ]
  },
  {
   "cell_type": "code",
   "execution_count": 20,
   "metadata": {},
   "outputs": [
    {
     "data": {
      "text/html": [
       "<div>\n",
       "<style scoped>\n",
       "    .dataframe tbody tr th:only-of-type {\n",
       "        vertical-align: middle;\n",
       "    }\n",
       "\n",
       "    .dataframe tbody tr th {\n",
       "        vertical-align: top;\n",
       "    }\n",
       "\n",
       "    .dataframe thead th {\n",
       "        text-align: right;\n",
       "    }\n",
       "</style>\n",
       "<table border=\"1\" class=\"dataframe\">\n",
       "  <thead>\n",
       "    <tr style=\"text-align: right;\">\n",
       "      <th></th>\n",
       "      <th>Organisation</th>\n",
       "      <th>Duty Station</th>\n",
       "      <th>Level</th>\n",
       "      <th>Post Title</th>\n",
       "      <th>Closing Date</th>\n",
       "      <th>Posting Retrieved</th>\n",
       "      <th>Descriptions</th>\n",
       "      <th>diff_days</th>\n",
       "    </tr>\n",
       "  </thead>\n",
       "  <tbody>\n",
       "    <tr>\n",
       "      <th>18</th>\n",
       "      <td>WHO</td>\n",
       "      <td>Anywhere</td>\n",
       "      <td></td>\n",
       "      <td>Consultant - GIS Data Management</td>\n",
       "      <td>2023-03-12</td>\n",
       "      <td>2023-02-10</td>\n",
       "      <td>https://unjoblist.org/r/?451669</td>\n",
       "      <td>30</td>\n",
       "    </tr>\n",
       "  </tbody>\n",
       "</table>\n",
       "</div>"
      ],
      "text/plain": [
       "   Organisation Duty Station Level                        Post Title  \\\n",
       "18          WHO     Anywhere        Consultant - GIS Data Management   \n",
       "\n",
       "   Closing Date Posting Retrieved                     Descriptions  diff_days  \n",
       "18   2023-03-12        2023-02-10  https://unjoblist.org/r/?451669         30  "
      ]
     },
     "execution_count": 20,
     "metadata": {},
     "output_type": "execute_result"
    }
   ],
   "source": [
    "### also there is way that we can find a job with more that month as a duration\n",
    "#and at the same time from WHO orgnization. \n",
    "df_final[(df_final['diff_days'] >=30) & (df_final[\"Organisation\"]==\"WHO\")]"
   ]
  },
  {
   "cell_type": "markdown",
   "metadata": {},
   "source": [
    "So we have one avialable job in WHO with exatly one month open."
   ]
  },
  {
   "cell_type": "markdown",
   "metadata": {},
   "source": [
    "#### Visuliazation"
   ]
  },
  {
   "cell_type": "markdown",
   "metadata": {},
   "source": [
    "For example if we want to know how the distribution for time availabe for each jobs"
   ]
  },
  {
   "cell_type": "code",
   "execution_count": 20,
   "metadata": {},
   "outputs": [
    {
     "name": "stderr",
     "output_type": "stream",
     "text": [
      "C:\\Users\\T470S\\anaconda3\\lib\\site-packages\\seaborn\\distributions.py:2557: FutureWarning: `distplot` is a deprecated function and will be removed in a future version. Please adapt your code to use either `displot` (a figure-level function with similar flexibility) or `histplot` (an axes-level function for histograms).\n",
      "  warnings.warn(msg, FutureWarning)\n"
     ]
    },
    {
     "data": {
      "image/png": "[encoded data removed]",
      "text/plain": [
       "<Figure size 432x288 with 1 Axes>"
      ]
     },
     "metadata": {
      "needs_background": "light"
     },
     "output_type": "display_data"
    }
   ],
   "source": [
    "x = df_final['diff_days']\n",
    "ax = sn.distplot(x, hist=True, kde=True, rug=False, color='m', bins=25, hist_kws={'edgecolor':'black'})\n",
    "#plt.figure()"
   ]
  },
  {
   "cell_type": "markdown",
   "metadata": {},
   "source": [
    "There is some jobs with long opening time and some of them with short time, so it depends on the job itself and the location"
   ]
  },
  {
   "cell_type": "code",
   "execution_count": 21,
   "metadata": {},
   "outputs": [
    {
     "name": "stderr",
     "output_type": "stream",
     "text": [
      "C:\\Users\\T470S\\anaconda3\\lib\\site-packages\\seaborn\\_decorators.py:36: FutureWarning: Pass the following variable as a keyword arg: x. From version 0.12, the only valid positional argument will be `data`, and passing other arguments without an explicit keyword will result in an error or misinterpretation.\n",
      "  warnings.warn(\n"
     ]
    },
    {
     "data": {
      "text/plain": [
       "<AxesSubplot: xlabel='diff_days'>"
      ]
     },
     "execution_count": 21,
     "metadata": {},
     "output_type": "execute_result"
    },
    {
     "data": {
      "image/png": "[encoded data removed]",
      "text/plain": [
       "<Figure size 432x288 with 1 Axes>"
      ]
     },
     "metadata": {
      "needs_background": "light"
     },
     "output_type": "display_data"
    }
   ],
   "source": [
    "sn.boxplot(x, color='m')\n",
    "#plt.show()"
   ]
  },
  {
   "cell_type": "markdown",
   "metadata": {},
   "source": [
    "Some outlires from the boxplot which confirm the previous explanation."
   ]
  },
  {
   "cell_type": "markdown",
   "metadata": {},
   "source": [
    "### REFERENCES"
   ]
  },
  {
   "cell_type": "markdown",
   "metadata": {},
   "source": [
    "<ol>\n",
    "<li>https://realpython.com/python-send-email/#:~:text=Use%20Python's%20built%2Din%20smtplib,a%20few%20lines%20of%20code</li>\n",
    "<li>https://beautiful-soup-4.readthedocs.io/en/latest/</li>\n",
    "<li>https://www.datacamp.com/tutorial/tutorial-python-beautifulsoup-datacamp-tutorials</li>\n",
    "\n",
    "</ol>"
   ]
  }
 ],
 "metadata": {
  "kernelspec": {
   "display_name": "Python 3",
   "language": "python",
   "name": "python3"
  },
  "language_info": {
   "codemirror_mode": {
    "name": "ipython",
    "version": 3
   },
   "file_extension": ".py",
   "mimetype": "text/x-python",
   "name": "python",
   "nbconvert_exporter": "python",
   "pygments_lexer": "ipython3",
   "version": "3.8.8"
  },
  "toc": {
   "base_numbering": 1,
   "nav_menu": {},
   "number_sections": false,
   "sideBar": true,
   "skip_h1_title": false,
   "title_cell": "Table of Contents",
   "title_sidebar": "Contents",
   "toc_cell": false,
   "toc_position": {},
   "toc_section_display": true,
   "toc_window_display": false
  }
 },
 "nbformat": 4,
 "nbformat_minor": 2
}
